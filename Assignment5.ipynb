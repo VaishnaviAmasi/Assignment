import pandas as pd
import numpy as np
import matplotlib.pyplot as plt
import seaborn as sns
from sklearn.model_selection import train_test_split
from sklearn.preprocessing import LabelEncoder, StandardScaler
from sklearn.svm import SVC
from sklearn.metrics import classification_report, accuracy_score, confusion_matrix
from sklearn.decomposition import PCA


def load_data(file_path):
    """Load the dataset from the specified file path."""
    return pd.read_excel(file_path)


def preprocess_data(data):
    """Preprocess the dataset: clean, encode, and scale."""
    # Drop irrelevant column 'Name' and rows with missing target values
    data_cleaned = data.drop(columns=["Name"]).dropna(subset=["Admission Status"])

    # Fill missing numeric values with their respective column mean
    numeric_cols = ["Age", "Admission Test Score", "High School Percentage"]
    data_cleaned[numeric_cols] = data_cleaned[numeric_cols].fillna(data_cleaned[numeric_cols].mean())

    # Encode categorical variables
    label_encoders = {}
    for col in ["Gender", "City", "Admission Status"]:
        le = LabelEncoder()
        data_cleaned[col] = le.fit_transform(data_cleaned[col])
        label_encoders[col] = le

    # Separate features and target variable
    X = data_cleaned.drop(columns=["Admission Status"])
    y = data_cleaned["Admission Status"]

    # Standardize the numerical features
    scaler = StandardScaler()
    X_scaled = scaler.fit_transform(X)

    return X_scaled, y, label_encoders


def train_svm(X_train, y_train, kernel="linear"):
    """Train an SVM classifier."""
    svm_model = SVC(kernel=kernel, random_state=42)
    svm_model.fit(X_train, y_train)
    return svm_model


def evaluate_model(model, X_test, y_test, label_encoders):
    """Evaluate the model and print results."""
    y_pred = model.predict(X_test)

    # Accuracy
    accuracy = accuracy_score(y_test, y_pred)
    print(f"Accuracy: {accuracy}")

    # Classification report
    report = classification_report(y_test, y_pred)
    print("Classification Report:\n", report)

    # Confusion Matrix
    conf_matrix = confusion_matrix(y_test, y_pred)
    plt.figure(figsize=(6, 6))
    sns.heatmap(conf_matrix, annot=True, fmt="d", cmap="Blues",
                xticklabels=label_encoders["Admission Status"].classes_,
                yticklabels=label_encoders["Admission Status"].classes_)
    plt.title("Confusion Matrix")
    plt.xlabel("Predicted")
    plt.ylabel("Actual")
    plt.show()


def visualize_decision_boundaries(model, X_train, y_train):
    """Visualize decision boundaries using PCA-reduced data."""
    pca = PCA(n_components=2)
    X_train_pca = pca.fit_transform(X_train)

    model.fit(X_train_pca, y_train)

    xx, yy = np.meshgrid(
        np.linspace(X_train_pca[:, 0].min() - 1, X_train_pca[:, 0].max() + 1, 100),
        np.linspace(X_train_pca[:, 1].min() - 1, X_train_pca[:, 1].max() + 1, 100)
    )
    Z = model.predict(np.c_[xx.ravel(), yy.ravel()])
    Z = Z.reshape(xx.shape)

    plt.figure(figsize=(10, 8))
    plt.contourf(xx, yy, Z, alpha=0.8, cmap=plt.cm.coolwarm)
    scatter = plt.scatter(X_train_pca[:, 0], X_train_pca[:, 1], c=y_train, edgecolors="k", cmap=plt.cm.coolwarm)
    plt.title("SVM Decision Boundaries (PCA Reduced Features)")
    plt.xlabel("Principal Component 1")
    plt.ylabel("Principal Component 2")
    plt.legend(*scatter.legend_elements(), title="Classes")
    plt.show()


if __name__ == "__main__":
    # Define file path (replace with your file path)
    file_path = "student_admission_record_dirty.xlsx"

    # Load and preprocess data
    data = load_data(file_path)
    X_scaled, y, label_encoders = preprocess_data(data)

    # Split data into training and testing sets
    X_train, X_test, y_train, y_test = train_test_split(X_scaled, y, test_size=0.2, random_state=42)

    # Train the SVM model
    svm_model = train_svm(X_train, y_train, kernel="linear")

    # Evaluate the model
    evaluate_model(svm_model, X_test, y_test, label_encoders)

    # Visualize decision boundaries
    visualize_decision_boundaries(SVC(kernel="linear", random_state=42), X_train, y_train)

