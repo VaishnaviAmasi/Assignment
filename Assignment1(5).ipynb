{
  "nbformat": 4,
  "nbformat_minor": 0,
  "metadata": {
    "colab": {
      "provenance": []
    },
    "kernelspec": {
      "name": "python3",
      "display_name": "Python 3"
    },
    "language_info": {
      "name": "python"
    }
  },
  "cells": [
    {
      "cell_type": "code",
      "execution_count": 1,
      "metadata": {
        "colab": {
          "base_uri": "https://localhost:8080/"
        },
        "id": "y83bS7y1rBTG",
        "outputId": "c9b2132b-5b12-47ba-991f-5004a7ce71e2"
      },
      "outputs": [
        {
          "output_type": "stream",
          "name": "stdout",
          "text": [
            "Accuracy: 0.43333333333333335\n",
            "Classification Report:\n",
            "               precision    recall  f1-score   support\n",
            "\n",
            "           0       0.33      0.55      0.41        11\n",
            "           1       0.58      0.37      0.45        19\n",
            "\n",
            "    accuracy                           0.43        30\n",
            "   macro avg       0.46      0.46      0.43        30\n",
            "weighted avg       0.49      0.43      0.44        30\n",
            "\n"
          ]
        }
      ],
      "source": [
        "import pandas as pd\n",
        "from sklearn.model_selection import train_test_split\n",
        "from sklearn.preprocessing import LabelEncoder, StandardScaler\n",
        "from sklearn.svm import SVC\n",
        "from sklearn.metrics import classification_report, accuracy_score\n",
        "\n",
        "# Load the dataset\n",
        "file_path = \"student_admission_record_dirty.xlsx\"\n",
        "data = pd.read_excel(file_path)\n",
        "\n",
        "# Drop irrelevant column 'Name' and rows with missing target values\n",
        "data_cleaned = data.drop(columns=[\"Name\"]).dropna(subset=[\"Admission Status\"])\n",
        "\n",
        "# Fill missing numeric values with their respective column mean\n",
        "numeric_cols = [\"Age\", \"Admission Test Score\", \"High School Percentage\"]\n",
        "data_cleaned[numeric_cols] = data_cleaned[numeric_cols].fillna(data_cleaned[numeric_cols].mean())\n",
        "\n",
        "# Encode categorical variables\n",
        "label_encoders = {}\n",
        "for col in [\"Gender\", \"City\", \"Admission Status\"]:\n",
        "    le = LabelEncoder()\n",
        "    data_cleaned[col] = le.fit_transform(data_cleaned[col])\n",
        "    label_encoders[col] = le\n",
        "\n",
        "# Separate features and target variable\n",
        "X = data_cleaned.drop(columns=[\"Admission Status\"])\n",
        "y = data_cleaned[\"Admission Status\"]\n",
        "\n",
        "# Standardize the numerical features for SVM\n",
        "scaler = StandardScaler()\n",
        "X_scaled = scaler.fit_transform(X)\n",
        "\n",
        "# Split data into training and testing sets\n",
        "X_train, X_test, y_train, y_test = train_test_split(X_scaled, y, test_size=0.2, random_state=42)\n",
        "\n",
        "# Train an SVM classifier\n",
        "svm_model = SVC(kernel=\"linear\", random_state=42)\n",
        "svm_model.fit(X_train, y_train)\n",
        "\n",
        "# Make predictions\n",
        "y_pred = svm_model.predict(X_test)\n",
        "\n",
        "# Evaluate the model\n",
        "accuracy = accuracy_score(y_test, y_pred)\n",
        "report = classification_report(y_test, y_pred)\n",
        "\n",
        "# Output results\n",
        "print(\"Accuracy:\", accuracy)\n",
        "print(\"Classification Report:\\n\", report)\n"
      ]
    },
    {
      "cell_type": "code",
      "source": [],
      "metadata": {
        "id": "jwkNir1Ur3Uk"
      },
      "execution_count": null,
      "outputs": []
    }
  ]
}